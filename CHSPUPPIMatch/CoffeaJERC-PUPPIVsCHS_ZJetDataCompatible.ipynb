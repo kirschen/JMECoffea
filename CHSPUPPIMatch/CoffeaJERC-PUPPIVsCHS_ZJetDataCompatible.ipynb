{
 "cells": [
  {
   "cell_type": "markdown",
   "metadata": {},
   "source": [
    "Basic Z-selection applied in processor. Jet matching notebook for JMENANO for CHS/PUPPI. Plotting distributions from MC using processor"
   ]
  },
  {
   "cell_type": "code",
   "execution_count": 1,
   "metadata": {},
   "outputs": [],
   "source": [
    "#Probably not needed to run this cell, but maybe good to do? Used bleeding edge with 16 GB as configuration\n",
    "#!pip install --user coffea"
   ]
  },
  {
   "cell_type": "code",
   "execution_count": 2,
   "metadata": {},
   "outputs": [],
   "source": [
    "import bokeh\n",
    "import time\n",
    "import copy\n",
    "import scipy.stats as ss\n",
    "from scipy.optimize import curve_fit\n",
    "from coffea import hist, processor, nanoevents, util\n",
    "from coffea.nanoevents.methods import candidate\n",
    "from coffea.nanoevents import NanoAODSchema, BaseSchema\n",
    "\n",
    "import awkward as ak\n",
    "import numpy as np\n",
    "import glob as glob\n",
    "import itertools\n",
    "import pandas as pd\n",
    "from numpy.random import RandomState\n",
    "\n",
    "#from dask.distributed import Client\n",
    "import inspect\n",
    "import matplotlib.pyplot as plt\n",
    "\n",
    "#from lpcjobqueue import LPCCondorCluster"
   ]
  },
  {
   "cell_type": "code",
   "execution_count": 3,
   "metadata": {},
   "outputs": [],
   "source": [
    "class JMENanoAODSchema(NanoAODSchema):\n",
    "    \"\"\"JMENano schema builder\n",
    "\n",
    "    JMENano is an extended NanoAOD format that includes various jet collections down to low pt for JME studies\n",
    "    More info at https://twiki.cern.ch/twiki/bin/viewauth/CMS/JMECustomNanoAOD\n",
    "    Customization at https://github.com/nurfikri89/cmssw/blob/master/PhysicsTools/NanoAOD/python/custom_jme_cff.py\n",
    "    \"\"\"\n",
    "\n",
    "    mixins = {\n",
    "        **NanoAODSchema.mixins,\n",
    "        \"JetCalo\": \"Jet\",\n",
    "        \"JetPuppi\": \"Jet\",\n",
    "        \"FatJetForJEC\": \"Jet\",\n",
    "        \"FatJetCHS\": \"Jet\",\n",
    "    }\n",
    "    all_cross_references = {\n",
    "        **NanoAODSchema.all_cross_references,\n",
    "        \"FatJetForJEC_genJetIdx\": \"GenJetAK8ForJEC\",\n",
    "        \"FatJetCHS_genJetIdx\": \"GenJetAK8ForJEC\",\n",
    "        \"JetCalo_genJetIdx\": \"GenJet\",\n",
    "        \"JetPuppi_genJetIdx\": \"GenJet\",\n",
    "    }\n"
   ]
  },
  {
   "cell_type": "markdown",
   "metadata": {},
   "source": [
    "### Import processor"
   ]
  },
  {
   "cell_type": "code",
   "execution_count": 4,
   "metadata": {},
   "outputs": [],
   "source": [
    "from CoffeaJERCProcessor_PUPPI_ZJet import Processor"
   ]
  },
  {
   "cell_type": "code",
   "execution_count": null,
   "metadata": {},
   "outputs": [],
   "source": []
  },
  {
   "cell_type": "code",
   "execution_count": null,
   "metadata": {},
   "outputs": [],
   "source": []
  },
  {
   "cell_type": "code",
   "execution_count": null,
   "metadata": {},
   "outputs": [],
   "source": []
  },
  {
   "cell_type": "code",
   "execution_count": 56,
   "metadata": {},
   "outputs": [],
   "source": [
    "xrootdstr = '/eos/cms/store/group/phys_jetmet/kirschen/JMENANO_EarlyDataTest/'\n",
    "xrootdstr = '/scratch/singularity_scratch_coffea/JMENANO_LOCAL/'\n",
    "#adapt this to eos...phys_jetmet\n",
    "\n",
    "rootfiles = open('dataset_local_DY.txt').read().split()\n",
    "\n",
    "fileslist = [xrootdstr + file for file in rootfiles]\n",
    "\n",
    "rootfiles = open('dataset_local_DoubleMuon.txt').read().split()\n",
    "fileslist_Data = [xrootdstr + file for file in rootfiles]\n",
    "#for now only process either MC or Data. Should improve the bookkeeping, but will start with separate plots\n",
    "#Following line commented out: Process MC, uncommented: process Data ()\n",
    "fileslist=fileslist_Data\n",
    "\n"
   ]
  },
  {
   "cell_type": "code",
   "execution_count": 57,
   "metadata": {},
   "outputs": [
    {
     "data": {
      "text/plain": [
       "['/scratch/singularity_scratch_coffea/JMENANO_LOCAL/DoubleMuon_Run2018D-UL2018_MiniAODv2_JMENanoAODv9-v1_NANOAOD/3ABDB242-A800-8842-8912-375A64AE9FA2.root',\n",
       " '/scratch/singularity_scratch_coffea/JMENANO_LOCAL/DoubleMuon_Run2018D-UL2018_MiniAODv2_JMENanoAODv9-v1_NANOAOD/8135DB63-F48E-3449-8ECC-16215A994FE9.root']"
      ]
     },
     "execution_count": 57,
     "metadata": {},
     "output_type": "execute_result"
    }
   ],
   "source": [
    "fileslist"
   ]
  },
  {
   "cell_type": "code",
   "execution_count": null,
   "metadata": {},
   "outputs": [],
   "source": []
  },
  {
   "cell_type": "code",
   "execution_count": 58,
   "metadata": {},
   "outputs": [
    {
     "data": {
      "text/plain": [
       "['/scratch/singularity_scratch_coffea/JMENANO_LOCAL/DoubleMuon_Run2018D-UL2018_MiniAODv2_JMENanoAODv9-v1_NANOAOD/3ABDB242-A800-8842-8912-375A64AE9FA2.root',\n",
       " '/scratch/singularity_scratch_coffea/JMENANO_LOCAL/DoubleMuon_Run2018D-UL2018_MiniAODv2_JMENanoAODv9-v1_NANOAOD/8135DB63-F48E-3449-8ECC-16215A994FE9.root']"
      ]
     },
     "execution_count": 58,
     "metadata": {},
     "output_type": "execute_result"
    }
   ],
   "source": [
    "#process just two files for now\n",
    "fileslist = fileslist[:20]\n",
    "fileslist"
   ]
  },
  {
   "cell_type": "code",
   "execution_count": 59,
   "metadata": {
    "scrolled": false
   },
   "outputs": [
    {
     "name": "stdout",
     "output_type": "stream",
     "text": [
      "<coffea.lookup_tools.evaluator.evaluator object at 0x7fe1d7b03ca0>\n",
      "dict_keys(['Summer20UL18_V2_MC_L2Relative_AK4PFPuppi'])\n",
      "['Summer20UL18_V2_MC_L2Relative_AK4PFPuppi']\n",
      "\n"
     ]
    },
    {
     "data": {
      "application/vnd.jupyter.widget-view+json": {
       "model_id": "32c6b862ddfb4aef839967b7b686bd84",
       "version_major": 2,
       "version_minor": 0
      },
      "text/plain": [
       "Output()"
      ]
     },
     "metadata": {},
     "output_type": "display_data"
    },
    {
     "data": {
      "text/html": [
       "<pre style=\"white-space:pre;overflow-x:auto;line-height:normal;font-family:Menlo,'DejaVu Sans Mono',consolas,'Courier New',monospace\"></pre>\n"
      ],
      "text/plain": []
     },
     "metadata": {},
     "output_type": "display_data"
    },
    {
     "data": {
      "text/html": [
       "<pre style=\"white-space:pre;overflow-x:auto;line-height:normal;font-family:Menlo,'DejaVu Sans Mono',consolas,'Courier New',monospace\">\n",
       "</pre>\n"
      ],
      "text/plain": [
       "\n"
      ]
     },
     "metadata": {},
     "output_type": "display_data"
    },
    {
     "name": "stdout",
     "output_type": "stream",
     "text": [
      "{'CHSPUPPIptresponse': <Hist (dataset,pt,jeteta,ptresponse) instance at 0x7fe053d84c40>, 'CHSPUPPIcorrected_ptresponse': <Hist (dataset,pt,jeteta,ptresponse) instance at 0x7fe206c75e80>, 'jetpt': <Hist (dataset,pt) instance at 0x7fe206c75670>, 'jeteta': <Hist (dataset,jeteta) instance at 0x7fe204dfa070>, 'jetphi': <Hist (dataset,jetphi) instance at 0x7fe053b88be0>, 'cutflow': defaultdict_accumulator(<class 'int'>, {})}\n",
      "QCD unweighted output loaded\n"
     ]
    }
   ],
   "source": [
    "tstart = time.time()\n",
    "\n",
    "outputs_unweighted = {}\n",
    "\n",
    "seed = 1234577890\n",
    "prng = RandomState(seed)\n",
    "Chunk = [10000, 10] # [chunksize, maxchunks]\n",
    "\n",
    "filesets = {'QCD': fileslist,\n",
    "           #'Data': fileslist_Data\n",
    "           }\n",
    "\n",
    "for name,files in filesets.items(): \n",
    "    chosen_exec = 'futures'\n",
    "    output = processor.run_uproot_job({name:files},\n",
    "                                          treename='Events',\n",
    "                                          processor_instance=Processor(),\n",
    "                                          #executor=processor.iterative_executor,\n",
    "                                            executor=processor.futures_executor,\n",
    "                                          executor_args={\n",
    "                                              'skipbadfiles':False,\n",
    "                                              'schema': JMENanoAODSchema, #NanoAODSchema, #BaseSchema\n",
    "                                              'workers': 48},\n",
    "                                          chunksize=Chunk[0])#, maxchunks=Chunk[1])\n",
    "\n",
    "elapsed = time.time() - tstart\n",
    "outputs_unweighted[name] = output\n",
    "print(output)\n",
    "#util.save(output, 'CoffeaJERCOutputs_binned_DY_WithoutDZCut.coffea')\n",
    "#util.save(output, 'CoffeaJERCOutputs_binned_DY_DZCut.coffea')\n",
    "util.save(output, 'CoffeaJERCOutputs_ZJet_Selection_binned_something.coffea')\n",
    "\n",
    "\n",
    "outputs_unweighted[name] = output\n",
    "print(name + ' unweighted output loaded')\n",
    "elapsed = time.time() - tstart"
   ]
  },
  {
   "cell_type": "code",
   "execution_count": null,
   "metadata": {},
   "outputs": [],
   "source": [
    "\n"
   ]
  },
  {
   "cell_type": "markdown",
   "metadata": {},
   "source": [
    "### Load coffea output file"
   ]
  },
  {
   "cell_type": "code",
   "execution_count": 60,
   "metadata": {},
   "outputs": [
    {
     "name": "stdout",
     "output_type": "stream",
     "text": [
      "{'CHSPUPPIptresponse': <Hist (dataset,pt,jeteta,ptresponse) instance at 0x7fe1d7e9e1c0>, 'CHSPUPPIcorrected_ptresponse': <Hist (dataset,pt,jeteta,ptresponse) instance at 0x7fe2056a8700>, 'jetpt': <Hist (dataset,pt) instance at 0x7fe1d7e9e640>, 'jeteta': <Hist (dataset,jeteta) instance at 0x7fe1d7e9ee50>, 'jetphi': <Hist (dataset,jetphi) instance at 0x7fe0583af1c0>, 'cutflow': defaultdict_accumulator(<class 'int'>, {})}\n",
      "['CHSPUPPIptresponse', 'CHSPUPPIcorrected_ptresponse', 'jetpt', 'jeteta', 'jetphi', 'cutflow']\n"
     ]
    }
   ],
   "source": [
    "#output = util.load('CoffeaJERCOutputs_binned_DY_WithoutDZCut.coffea')\n",
    "#output = util.load('CoffeaJERCOutputs_binned_DY_DZCut.coffea')\n",
    "output = util.load('CoffeaJERCOutputs_ZJet_Selection_binned_something.coffea')\n",
    "print(output)\n",
    "print ([a for a in output])"
   ]
  },
  {
   "cell_type": "code",
   "execution_count": 61,
   "metadata": {},
   "outputs": [],
   "source": [
    "# define gaussian function\n",
    "def gauss(x, *p):\n",
    "    A, mu, sigma = p\n",
    "    return A*np.exp(-(x-mu)**2/(2.*sigma**2))"
   ]
  },
  {
   "cell_type": "code",
   "execution_count": 62,
   "metadata": {},
   "outputs": [],
   "source": [
    "ptbins = [1, 2, 3, 4, 5, 6, 7, 8, 9, 10, 11, 12, 13, 14, 15, 17, 20, 23, 27, 30, 35, 40, 45, 57, 72, 90, 120, \n",
    "        150, 200, 300, 400, 550, 750, 1000, 1500, 2000, 2500, 3000, 3500, 4000, 4500, 5000, 10000 ]\n",
    "\n",
    "\n",
    "\n"
   ]
  },
  {
   "cell_type": "code",
   "execution_count": 63,
   "metadata": {},
   "outputs": [],
   "source": [
    "etabins =   [-4.889,  -4.716,  -4.538,  -4.363,  -4.191,  -4.013,  -3.839,  -3.664,  -3.489,\n",
    "           -3.314,  -3.139,  -2.964,  -2.853,  -2.65,  -2.5,  -2.322,  -2.172,  -2.043,  -1.93,  -1.83,\n",
    "           -1.74,  -1.653,  -1.566,  -1.479,  -1.392,  -1.305,  -1.218,  -1.131,  -1.044,  -0.957,  -0.879,\n",
    "           -0.783,  -0.696,  -0.609,  -0.522,  -0.435,  -0.348,  -0.261,  -0.174,  -0.087,  0,  0.087,  0.174,\n",
    "           0.261,  0.348,  0.435,  0.522,  0.609,  0.696,  0.783,  0.879,  0.957,  1.044,  1.131,  1.218,\n",
    "           1.305,  1.392,  1.479,  1.566,  1.653,  1.74,  1.83,  1.93,  2.043,  2.172,  2.322,  2.5,  2.65,\n",
    "           2.853,  2.964,  3.139,  3.314,  3.489,  3.664,  3.839,  4.013,  4.191,  4.363,  4.538,  4.716,\n",
    "           4.889, ]#5.191 ]"
   ]
  },
  {
   "cell_type": "code",
   "execution_count": 64,
   "metadata": {},
   "outputs": [],
   "source": [
    "jetpt_length = len(output['jetpt'].axis('pt')[1:-1])\n",
    "jeteta_length = len(output['jeteta'].axis('jeteta')[1:-1])\n",
    "jeteta_length = len(etabins)\n",
    "\n",
    "mean = np.zeros((jetpt_length, jeteta_length))\n",
    "median = np.zeros((jetpt_length, jeteta_length))\n",
    "width = np.zeros((jetpt_length, jeteta_length))\n",
    "idx = []"
   ]
  },
  {
   "cell_type": "code",
   "execution_count": null,
   "metadata": {},
   "outputs": [],
   "source": []
  },
  {
   "cell_type": "code",
   "execution_count": 65,
   "metadata": {},
   "outputs": [
    {
     "name": "stdout",
     "output_type": "stream",
     "text": [
      "[1, 2, 3, 4, 5, 6, 7, 8, 9, 10, 11, 12, 13, 14, 15, 17, 20, 23, 27, 30, 35, 40, 45, 57, 72, 90, 120, 150, 200, 300, 400, 550, 750, 1000, 1500, 2000, 2500, 3000, 3500, 4000, 4500, 5000, 10000]\n",
      "43\n",
      "[11, 12, 13, 14, 15, 17, 20, 23, 27, 30]\n"
     ]
    }
   ],
   "source": [
    "print(ptbins)\n",
    "print(len(ptbins))\n",
    "bins = [10,15,20,30]\n",
    "#my_slices = tuple(slice(x) for x in bins)\n",
    "print(ptbins[10:20])"
   ]
  },
  {
   "cell_type": "code",
   "execution_count": 66,
   "metadata": {},
   "outputs": [],
   "source": [
    "import coffea, uproot3, numpy\n",
    "def dumpHistos(histoname):\n",
    "    xvals = output[histoname].axis('ptresponse' if 'ptresponse' in histoname else 'pt').centers()\n",
    "    fout = uproot3.create(\"plots/{}_export.root\".format(histoname))\n",
    "\n",
    "    f_xvals = np.linspace(0,5,5001)\n",
    "    j = 0\n",
    "    fewptbins = [10,15,20,30,32]\n",
    "    for i in range(len(ptbins)-1):\n",
    "    #for i in fewptbins:\n",
    "\n",
    "        ptBin = hist.Interval(ptbins[i], ptbins[i+1])\n",
    "        print('pt bin '+str(ptBin))\n",
    "\n",
    "        if not 'inf' in str(ptBin):\n",
    "            #pt_string = '_pT'+str(int(ptBin.lo))+'to'+str(int(ptBin.hi))                                                                                                                                                                                                     \n",
    "            pt_string = '_pT_{:0>6}_to_{:0>6}'.format(int(ptBin.lo),int(ptBin.hi))\n",
    "        else:\n",
    "            pt_string = '_pT'+str(ptBin.lo) + 'to' + str(ptBin.hi)\n",
    "            pt_string = pt_string.replace('.0','').replace('-infto','0to')\n",
    "\n",
    "        for k in range(len(etabins)-1):\n",
    "\n",
    "            etaBin = hist.Interval(etabins[k], etabins[k+1])\n",
    "            #eta_string = '_eta'+str(etaBin.lo)+'to'+str(etaBin.hi)                                                                                                                                                                                                           \n",
    "            eta_string = '_eta_{:0>6.3f}_to_{:0>6.3f}'.format(etaBin.lo,etaBin.hi)\n",
    "            eta_string = eta_string.replace('.','_')\n",
    "\n",
    "\n",
    "\n",
    "            histo = output[histoname].integrate('jeteta', etaBin).integrate('pt', ptBin) if 'ptresponse' in histoname else output[histoname].integrate('jeteta', etaBin) \n",
    "            if i==0 or histoname!=\"GenJetCounts\": fout[\"{}_{}_{}\".format(histoname,pt_string if 'ptresponse' in histoname else \"\",eta_string)] = coffea.hist.export1d(histo.integrate('dataset'))\n",
    "            histvals = np.repeat(histo.axis('ptresponse' if 'ptresponse' in histoname else 'pt').centers(), np.array(histo.values()[('QCD',)],dtype='int'))\n",
    "\n",
    "            yvals = histo.values()[('QCD',)]\n",
    "\n",
    "\n",
    "\n",
    "            try:\n",
    "                p, arr = curve_fit(gauss, xvals, yvals, p0=[10,1,1])\n",
    "            except:\n",
    "                continue\n",
    "\n",
    "\n",
    "            fgaus = gauss(f_xvals, *p)\n",
    "\n",
    "    #         median[i,k] = f_xvals[fgaus == np.max(fgaus)]                                                                                                                                                                                                                   \n",
    "            median[i,k] = np.median(histvals)\n",
    "            mean[i,k] = p[1]\n",
    "            width[i,k] = p[2]\n",
    "            idx.append(i)\n",
    "\n",
    "            if(etabins[k]==2.853 or etabins[k]==0.0):\n",
    "                h = np.max(histo.values()[('QCD',)])\n",
    "                ax = hist.plot1d(histo, overlay='dataset')\n",
    "                ax.set_title(\"{}_{}_{}\".format(histoname,pt_string,eta_string))\n",
    "     #         plt.plot(f_xvals, fgaus)                                                                                                                                                                                                                                       \n",
    "                plt.text(4,0.75*h,'Mean {0:0.2f}'.format(p[1]))\n",
    "                plt.text(4,0.7*h,'Median {0:0.2f}'.format(np.median(histvals)))\n",
    "                plt.text(4,0.65*h,'Width {0:0.2f}'.format(p[2]))\n",
    "                #plt.text(4,0.65*h,'Width {0:0.2f}'.format(p[2]))\n",
    "\n",
    "                plt.xscale(\"linear\") if 'ptresponse' in histoname else plt.xscale(\"log\")\n",
    "                plt.savefig(\"plots/{}_{}_{}.pdf\".format(histoname,pt_string,eta_string))\n",
    "                plt.savefig(\"plots/{}_{}_{}.png\".format(histoname,pt_string,eta_string))\n",
    "                plt.show()\n",
    "    fout.close()\n"
   ]
  },
  {
   "cell_type": "code",
   "execution_count": null,
   "metadata": {},
   "outputs": [],
   "source": [
    "!rm plots/*\n",
    "#histos= ['GenJetCountsWithDZCut','GenJetCountsMatchedPUPPI','GenJetCountsMatchedCHS','GenJetCounts','ptresponse', 'corrected_ptresponse', 'CHSptresponse', 'CHScorrected_ptresponse', 'CHSPUPPIptresponse', 'CHSPUPPIcorrected_ptresponse']\n",
    "histos= ['CHSPUPPIptresponse', 'CHSPUPPIcorrected_ptresponse']\n",
    "#histos= ['ptresponse', 'corrected_ptresponse', 'CHSptresponse', 'CHScorrected_ptresponse', 'CHSPUPPIptresponse', 'CHSPUPPIcorrected_ptresponse']\n",
    "for histo in histos:\n",
    "    dumpHistos(histo)\n"
   ]
  },
  {
   "cell_type": "code",
   "execution_count": null,
   "metadata": {},
   "outputs": [],
   "source": []
  }
 ],
 "metadata": {
  "kernelspec": {
   "display_name": "Python 3 (ipykernel)",
   "language": "python",
   "name": "python3"
  },
  "language_info": {
   "codemirror_mode": {
    "name": "ipython",
    "version": 3
   },
   "file_extension": ".py",
   "mimetype": "text/x-python",
   "name": "python",
   "nbconvert_exporter": "python",
   "pygments_lexer": "ipython3",
   "version": "3.8.13"
  }
 },
 "nbformat": 4,
 "nbformat_minor": 2
}
