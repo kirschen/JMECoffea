{
 "cells": [
  {
   "cell_type": "markdown",
   "metadata": {},
   "source": [
    "Jet matching notebook for JMENANO. Plotting distributions from MC using processor"
   ]
  },
  {
   "cell_type": "code",
   "execution_count": 8,
   "metadata": {},
   "outputs": [],
   "source": [
    "#Probably not needed to run this cell, but maybe good to do? Used bleeding edge with 16 GB as configuration\n",
    "!pip install --user coffea"
   ]
  },
  {
   "cell_type": "code",
   "execution_count": 1,
   "metadata": {},
   "outputs": [],
   "source": [
    "import bokeh\n",
    "import time\n",
    "import copy\n",
    "import scipy.stats as ss\n",
    "from scipy.optimize import curve_fit\n",
    "from coffea import hist, processor, nanoevents, util\n",
    "from coffea.nanoevents.methods import candidate\n",
    "from coffea.nanoevents import NanoAODSchema, BaseSchema\n",
    "\n",
    "import awkward as ak\n",
    "import numpy as np\n",
    "import glob as glob\n",
    "import itertools\n",
    "import pandas as pd\n",
    "from numpy.random import RandomState\n",
    "\n",
    "#from dask.distributed import Client\n",
    "import inspect\n",
    "import matplotlib.pyplot as plt\n",
    "\n",
    "#from lpcjobqueue import LPCCondorCluster"
   ]
  },
  {
   "cell_type": "code",
   "execution_count": 2,
   "metadata": {},
   "outputs": [],
   "source": [
    "class JMENanoAODSchema(NanoAODSchema):\n",
    "    \"\"\"JMENano schema builder\n",
    "\n",
    "    JMENano is an extended NanoAOD format that includes various jet collections down to low pt for JME studies\n",
    "    More info at https://twiki.cern.ch/twiki/bin/viewauth/CMS/JMECustomNanoAOD\n",
    "    Customization at https://github.com/nurfikri89/cmssw/blob/master/PhysicsTools/NanoAOD/python/custom_jme_cff.py\n",
    "    \"\"\"\n",
    "\n",
    "    mixins = {\n",
    "        **NanoAODSchema.mixins,\n",
    "        \"JetCalo\": \"Jet\",\n",
    "        \"JetPuppi\": \"Jet\",\n",
    "        \"FatJetForJEC\": \"Jet\",\n",
    "        \"FatJetCHS\": \"Jet\",\n",
    "    }\n",
    "    all_cross_references = {\n",
    "        **NanoAODSchema.all_cross_references,\n",
    "        \"FatJetForJEC_genJetIdx\": \"GenJetAK8ForJEC\",\n",
    "        \"FatJetCHS_genJetIdx\": \"GenJetAK8ForJEC\",\n",
    "        \"JetCalo_genJetIdx\": \"GenJet\",\n",
    "        \"JetPuppi_genJetIdx\": \"GenJet\",\n",
    "    }\n"
   ]
  },
  {
   "cell_type": "markdown",
   "metadata": {},
   "source": [
    "### Import processor"
   ]
  },
  {
   "cell_type": "code",
   "execution_count": 3,
   "metadata": {},
   "outputs": [],
   "source": [
    "from CoffeaJERCProcessor_PUPPI_Cleaned import Processor"
   ]
  },
  {
   "cell_type": "code",
   "execution_count": null,
   "metadata": {},
   "outputs": [],
   "source": []
  },
  {
   "cell_type": "code",
   "execution_count": null,
   "metadata": {},
   "outputs": [],
   "source": []
  },
  {
   "cell_type": "code",
   "execution_count": null,
   "metadata": {},
   "outputs": [],
   "source": []
  },
  {
   "cell_type": "code",
   "execution_count": 4,
   "metadata": {},
   "outputs": [],
   "source": [
    "xrootdstr = '/eos/cms/store/group/phys_jetmet/kirschen/JMENANO_EarlyDataTest/'\n",
    "#adapt this to eos...phys_jetmet\n",
    "\n",
    "#rootfiles = open('dataset_local.txt').read().split()\n",
    "#rootfiles = open('dataset_local_Epsilon.txt').read().split()\n",
    "#rootfiles = open('dataset_local_Premix.txt').read().split()\n",
    "rootfiles = open('dataset_EOS_DY.txt').read().split()\n",
    "\n",
    "fileslist = [xrootdstr + file for file in rootfiles]\n",
    "\n"
   ]
  },
  {
   "cell_type": "code",
   "execution_count": 5,
   "metadata": {},
   "outputs": [
    {
     "data": {
      "text/plain": [
       "['/eos/cms/store/group/phys_jetmet/kirschen/JMENANO_EarlyDataTest/DYJetsToLL_M-50_TuneCP5_13TeV-madgraphMLM-pythia8_RunIISummer20UL18NanoAODv9-20UL18JMENano_106X_upgrade2018_realistic_v16_L1v1-v1_NANOAODSIM/0178718B-3FD4-354A-BC4C-C11B16887212.root',\n",
       " '/eos/cms/store/group/phys_jetmet/kirschen/JMENANO_EarlyDataTest/DYJetsToLL_M-50_TuneCP5_13TeV-madgraphMLM-pythia8_RunIISummer20UL18NanoAODv9-20UL18JMENano_106X_upgrade2018_realistic_v16_L1v1-v1_NANOAODSIM/07207868-CAF8-A545-A697-F5D189ABC029.root',\n",
       " '/eos/cms/store/group/phys_jetmet/kirschen/JMENANO_EarlyDataTest/DYJetsToLL_M-50_TuneCP5_13TeV-madgraphMLM-pythia8_RunIISummer20UL18NanoAODv9-20UL18JMENano_106X_upgrade2018_realistic_v16_L1v1-v1_NANOAODSIM/082CFEB7-53F5-E841-87CC-FF519517F623.root',\n",
       " '/eos/cms/store/group/phys_jetmet/kirschen/JMENANO_EarlyDataTest/DYJetsToLL_M-50_TuneCP5_13TeV-madgraphMLM-pythia8_RunIISummer20UL18NanoAODv9-20UL18JMENano_106X_upgrade2018_realistic_v16_L1v1-v1_NANOAODSIM/17C242A8-9ECF-2E4B-8A80-EE072D7715D1.root',\n",
       " '/eos/cms/store/group/phys_jetmet/kirschen/JMENANO_EarlyDataTest/DYJetsToLL_M-50_TuneCP5_13TeV-madgraphMLM-pythia8_RunIISummer20UL18NanoAODv9-20UL18JMENano_106X_upgrade2018_realistic_v16_L1v1-v1_NANOAODSIM/1D0A3D5A-1C9A-B64F-B078-0A60EF6D1028.root',\n",
       " '/eos/cms/store/group/phys_jetmet/kirschen/JMENANO_EarlyDataTest/DYJetsToLL_M-50_TuneCP5_13TeV-madgraphMLM-pythia8_RunIISummer20UL18NanoAODv9-20UL18JMENano_106X_upgrade2018_realistic_v16_L1v1-v1_NANOAODSIM/275640C1-A228-D240-BBCA-C0E83AE3250D.root',\n",
       " '/eos/cms/store/group/phys_jetmet/kirschen/JMENANO_EarlyDataTest/DYJetsToLL_M-50_TuneCP5_13TeV-madgraphMLM-pythia8_RunIISummer20UL18NanoAODv9-20UL18JMENano_106X_upgrade2018_realistic_v16_L1v1-v1_NANOAODSIM/2AFD2B12-FB56-3845-9F51-872B6B5151C5.root',\n",
       " '/eos/cms/store/group/phys_jetmet/kirschen/JMENANO_EarlyDataTest/DYJetsToLL_M-50_TuneCP5_13TeV-madgraphMLM-pythia8_RunIISummer20UL18NanoAODv9-20UL18JMENano_106X_upgrade2018_realistic_v16_L1v1-v1_NANOAODSIM/2D361FB6-0591-644F-97F0-56EE0DCF6C46.root',\n",
       " '/eos/cms/store/group/phys_jetmet/kirschen/JMENANO_EarlyDataTest/DYJetsToLL_M-50_TuneCP5_13TeV-madgraphMLM-pythia8_RunIISummer20UL18NanoAODv9-20UL18JMENano_106X_upgrade2018_realistic_v16_L1v1-v1_NANOAODSIM/2D582C8D-99EE-DF41-8E53-F52C66CC7770.root',\n",
       " '/eos/cms/store/group/phys_jetmet/kirschen/JMENANO_EarlyDataTest/DYJetsToLL_M-50_TuneCP5_13TeV-madgraphMLM-pythia8_RunIISummer20UL18NanoAODv9-20UL18JMENano_106X_upgrade2018_realistic_v16_L1v1-v1_NANOAODSIM/3C63F453-428C-B541-BA5B-08C8FF80C07D.root',\n",
       " '/eos/cms/store/group/phys_jetmet/kirschen/JMENANO_EarlyDataTest/DYJetsToLL_M-50_TuneCP5_13TeV-madgraphMLM-pythia8_RunIISummer20UL18NanoAODv9-20UL18JMENano_106X_upgrade2018_realistic_v16_L1v1-v1_NANOAODSIM/3D901E78-EC8F-7346-986B-97753081AECC.root',\n",
       " '/eos/cms/store/group/phys_jetmet/kirschen/JMENANO_EarlyDataTest/DYJetsToLL_M-50_TuneCP5_13TeV-madgraphMLM-pythia8_RunIISummer20UL18NanoAODv9-20UL18JMENano_106X_upgrade2018_realistic_v16_L1v1-v1_NANOAODSIM/44A23C36-D60A-FF48-BB27-A143960C3A2F.root',\n",
       " '/eos/cms/store/group/phys_jetmet/kirschen/JMENANO_EarlyDataTest/DYJetsToLL_M-50_TuneCP5_13TeV-madgraphMLM-pythia8_RunIISummer20UL18NanoAODv9-20UL18JMENano_106X_upgrade2018_realistic_v16_L1v1-v1_NANOAODSIM/4F9600CD-3530-6C4A-AE11-CD50819C3A4A.root',\n",
       " '/eos/cms/store/group/phys_jetmet/kirschen/JMENANO_EarlyDataTest/DYJetsToLL_M-50_TuneCP5_13TeV-madgraphMLM-pythia8_RunIISummer20UL18NanoAODv9-20UL18JMENano_106X_upgrade2018_realistic_v16_L1v1-v1_NANOAODSIM/52DAF77A-1DCB-0348-AC99-0F18CBD1BD4C.root',\n",
       " '/eos/cms/store/group/phys_jetmet/kirschen/JMENANO_EarlyDataTest/DYJetsToLL_M-50_TuneCP5_13TeV-madgraphMLM-pythia8_RunIISummer20UL18NanoAODv9-20UL18JMENano_106X_upgrade2018_realistic_v16_L1v1-v1_NANOAODSIM/58EE5787-6E72-4E43-80A1-73AE8E0F20B5.root',\n",
       " '/eos/cms/store/group/phys_jetmet/kirschen/JMENANO_EarlyDataTest/DYJetsToLL_M-50_TuneCP5_13TeV-madgraphMLM-pythia8_RunIISummer20UL18NanoAODv9-20UL18JMENano_106X_upgrade2018_realistic_v16_L1v1-v1_NANOAODSIM/5D20C2F1-6CC5-4A41-9A48-2D3A609B0724.root',\n",
       " '/eos/cms/store/group/phys_jetmet/kirschen/JMENANO_EarlyDataTest/DYJetsToLL_M-50_TuneCP5_13TeV-madgraphMLM-pythia8_RunIISummer20UL18NanoAODv9-20UL18JMENano_106X_upgrade2018_realistic_v16_L1v1-v1_NANOAODSIM/5F02A26F-B468-7542-92C4-C311B6D12FEB.root',\n",
       " '/eos/cms/store/group/phys_jetmet/kirschen/JMENANO_EarlyDataTest/DYJetsToLL_M-50_TuneCP5_13TeV-madgraphMLM-pythia8_RunIISummer20UL18NanoAODv9-20UL18JMENano_106X_upgrade2018_realistic_v16_L1v1-v1_NANOAODSIM/6DF78627-E9EB-B748-83C0-79288C3807E9.root',\n",
       " '/eos/cms/store/group/phys_jetmet/kirschen/JMENANO_EarlyDataTest/DYJetsToLL_M-50_TuneCP5_13TeV-madgraphMLM-pythia8_RunIISummer20UL18NanoAODv9-20UL18JMENano_106X_upgrade2018_realistic_v16_L1v1-v1_NANOAODSIM/7D978DA9-AEB6-CA45-B603-D382C20606BB.root',\n",
       " '/eos/cms/store/group/phys_jetmet/kirschen/JMENANO_EarlyDataTest/DYJetsToLL_M-50_TuneCP5_13TeV-madgraphMLM-pythia8_RunIISummer20UL18NanoAODv9-20UL18JMENano_106X_upgrade2018_realistic_v16_L1v1-v1_NANOAODSIM/90396824-40F8-544F-9E78-79CC95B20CE0.root',\n",
       " '/eos/cms/store/group/phys_jetmet/kirschen/JMENANO_EarlyDataTest/DYJetsToLL_M-50_TuneCP5_13TeV-madgraphMLM-pythia8_RunIISummer20UL18NanoAODv9-20UL18JMENano_106X_upgrade2018_realistic_v16_L1v1-v1_NANOAODSIM/9C507E65-4657-4D42-B956-32DC98F40226.root',\n",
       " '/eos/cms/store/group/phys_jetmet/kirschen/JMENANO_EarlyDataTest/DYJetsToLL_M-50_TuneCP5_13TeV-madgraphMLM-pythia8_RunIISummer20UL18NanoAODv9-20UL18JMENano_106X_upgrade2018_realistic_v16_L1v1-v1_NANOAODSIM/9EEE27FD-7337-424F-9D7C-A5427A991D07.root',\n",
       " '/eos/cms/store/group/phys_jetmet/kirschen/JMENANO_EarlyDataTest/DYJetsToLL_M-50_TuneCP5_13TeV-madgraphMLM-pythia8_RunIISummer20UL18NanoAODv9-20UL18JMENano_106X_upgrade2018_realistic_v16_L1v1-v1_NANOAODSIM/A96E63CE-1AAF-FF40-BCB0-AC5CE0D20B0F.root',\n",
       " '/eos/cms/store/group/phys_jetmet/kirschen/JMENANO_EarlyDataTest/DYJetsToLL_M-50_TuneCP5_13TeV-madgraphMLM-pythia8_RunIISummer20UL18NanoAODv9-20UL18JMENano_106X_upgrade2018_realistic_v16_L1v1-v1_NANOAODSIM/A990B74A-D005-5F4F-B813-3E0CA8EBF3E1.root',\n",
       " '/eos/cms/store/group/phys_jetmet/kirschen/JMENANO_EarlyDataTest/DYJetsToLL_M-50_TuneCP5_13TeV-madgraphMLM-pythia8_RunIISummer20UL18NanoAODv9-20UL18JMENano_106X_upgrade2018_realistic_v16_L1v1-v1_NANOAODSIM/AAED0608-A7DB-A045-B1CC-9F7A9BB0EC62.root',\n",
       " '/eos/cms/store/group/phys_jetmet/kirschen/JMENANO_EarlyDataTest/DYJetsToLL_M-50_TuneCP5_13TeV-madgraphMLM-pythia8_RunIISummer20UL18NanoAODv9-20UL18JMENano_106X_upgrade2018_realistic_v16_L1v1-v1_NANOAODSIM/AC0F6CF3-59D2-D044-B17F-2541BF0E9E56.root',\n",
       " '/eos/cms/store/group/phys_jetmet/kirschen/JMENANO_EarlyDataTest/DYJetsToLL_M-50_TuneCP5_13TeV-madgraphMLM-pythia8_RunIISummer20UL18NanoAODv9-20UL18JMENano_106X_upgrade2018_realistic_v16_L1v1-v1_NANOAODSIM/B604EE28-2CC4-4D4F-876B-7B25E1093FAD.root',\n",
       " '/eos/cms/store/group/phys_jetmet/kirschen/JMENANO_EarlyDataTest/DYJetsToLL_M-50_TuneCP5_13TeV-madgraphMLM-pythia8_RunIISummer20UL18NanoAODv9-20UL18JMENano_106X_upgrade2018_realistic_v16_L1v1-v1_NANOAODSIM/B629F61A-7D69-4E41-A1A5-8CE79E2598BF.root',\n",
       " '/eos/cms/store/group/phys_jetmet/kirschen/JMENANO_EarlyDataTest/DYJetsToLL_M-50_TuneCP5_13TeV-madgraphMLM-pythia8_RunIISummer20UL18NanoAODv9-20UL18JMENano_106X_upgrade2018_realistic_v16_L1v1-v1_NANOAODSIM/BACE0A03-8979-F54C-BB6C-3B8823725A5E.root',\n",
       " '/eos/cms/store/group/phys_jetmet/kirschen/JMENANO_EarlyDataTest/DYJetsToLL_M-50_TuneCP5_13TeV-madgraphMLM-pythia8_RunIISummer20UL18NanoAODv9-20UL18JMENano_106X_upgrade2018_realistic_v16_L1v1-v1_NANOAODSIM/BFBEDA38-C8E2-BD4B-99CF-A70A77B8BAB7.root',\n",
       " '/eos/cms/store/group/phys_jetmet/kirschen/JMENANO_EarlyDataTest/DYJetsToLL_M-50_TuneCP5_13TeV-madgraphMLM-pythia8_RunIISummer20UL18NanoAODv9-20UL18JMENano_106X_upgrade2018_realistic_v16_L1v1-v1_NANOAODSIM/C6054727-FA94-C146-8AAC-9FA14AE7510B.root',\n",
       " '/eos/cms/store/group/phys_jetmet/kirschen/JMENANO_EarlyDataTest/DYJetsToLL_M-50_TuneCP5_13TeV-madgraphMLM-pythia8_RunIISummer20UL18NanoAODv9-20UL18JMENano_106X_upgrade2018_realistic_v16_L1v1-v1_NANOAODSIM/C60894B1-20E6-5D4C-9D77-C2E84D1B375C.root',\n",
       " '/eos/cms/store/group/phys_jetmet/kirschen/JMENANO_EarlyDataTest/DYJetsToLL_M-50_TuneCP5_13TeV-madgraphMLM-pythia8_RunIISummer20UL18NanoAODv9-20UL18JMENano_106X_upgrade2018_realistic_v16_L1v1-v1_NANOAODSIM/D3B114B9-9D69-EF4B-8921-39A59ED21D16.root',\n",
       " '/eos/cms/store/group/phys_jetmet/kirschen/JMENANO_EarlyDataTest/DYJetsToLL_M-50_TuneCP5_13TeV-madgraphMLM-pythia8_RunIISummer20UL18NanoAODv9-20UL18JMENano_106X_upgrade2018_realistic_v16_L1v1-v1_NANOAODSIM/DD028166-3860-9648-A9AB-A17900A34A31.root',\n",
       " '/eos/cms/store/group/phys_jetmet/kirschen/JMENANO_EarlyDataTest/DYJetsToLL_M-50_TuneCP5_13TeV-madgraphMLM-pythia8_RunIISummer20UL18NanoAODv9-20UL18JMENano_106X_upgrade2018_realistic_v16_L1v1-v1_NANOAODSIM/E0EBFF30-4D5C-8D41-AC64-C027E6EEADE7.root',\n",
       " '/eos/cms/store/group/phys_jetmet/kirschen/JMENANO_EarlyDataTest/DYJetsToLL_M-50_TuneCP5_13TeV-madgraphMLM-pythia8_RunIISummer20UL18NanoAODv9-20UL18JMENano_106X_upgrade2018_realistic_v16_L1v1-v1_NANOAODSIM/E6827E11-8F04-7148-AFDB-DC1C43574774.root']"
      ]
     },
     "execution_count": 5,
     "metadata": {},
     "output_type": "execute_result"
    }
   ],
   "source": [
    "fileslist"
   ]
  },
  {
   "cell_type": "code",
   "execution_count": null,
   "metadata": {},
   "outputs": [],
   "source": []
  },
  {
   "cell_type": "code",
   "execution_count": 9,
   "metadata": {},
   "outputs": [
    {
     "data": {
      "text/plain": [
       "['/eos/cms/store/group/phys_jetmet/kirschen/JMENANO_EarlyDataTest/DYJetsToLL_M-50_TuneCP5_13TeV-madgraphMLM-pythia8_RunIISummer20UL18NanoAODv9-20UL18JMENano_106X_upgrade2018_realistic_v16_L1v1-v1_NANOAODSIM/0178718B-3FD4-354A-BC4C-C11B16887212.root',\n",
       " '/eos/cms/store/group/phys_jetmet/kirschen/JMENANO_EarlyDataTest/DYJetsToLL_M-50_TuneCP5_13TeV-madgraphMLM-pythia8_RunIISummer20UL18NanoAODv9-20UL18JMENano_106X_upgrade2018_realistic_v16_L1v1-v1_NANOAODSIM/07207868-CAF8-A545-A697-F5D189ABC029.root']"
      ]
     },
     "execution_count": 9,
     "metadata": {},
     "output_type": "execute_result"
    }
   ],
   "source": [
    "#process just two files for now\n",
    "fileslist = fileslist[:2]\n",
    "fileslist"
   ]
  },
  {
   "cell_type": "code",
   "execution_count": null,
   "metadata": {
    "scrolled": false
   },
   "outputs": [
    {
     "name": "stdout",
     "output_type": "stream",
     "text": [
      "<coffea.lookup_tools.evaluator.evaluator object at 0x7fabc39c1d30>\n",
      "dict_keys(['Summer20UL18_V2_MC_L2Relative_AK4PFPuppi'])\n",
      "['Summer20UL18_V2_MC_L2Relative_AK4PFPuppi']\n",
      "\n"
     ]
    },
    {
     "data": {
      "application/vnd.jupyter.widget-view+json": {
       "model_id": "957b26f977634b0cabeb86a06b14ad97",
       "version_major": 2,
       "version_minor": 0
      },
      "text/plain": [
       "Processing:   0%|          | 0/98 [00:00<?, ?chunk/s]"
      ]
     },
     "metadata": {},
     "output_type": "display_data"
    }
   ],
   "source": [
    "tstart = time.time()\n",
    "\n",
    "outputs_unweighted = {}\n",
    "\n",
    "seed = 1234577890\n",
    "prng = RandomState(seed)\n",
    "Chunk = [10000, 10] # [chunksize, maxchunks]\n",
    "\n",
    "filesets = {'QCD': fileslist}\n",
    "\n",
    "for name,files in filesets.items(): \n",
    "    chosen_exec = 'futures'\n",
    "    output = processor.run_uproot_job({name:files},\n",
    "                                          treename='Events',\n",
    "                                          processor_instance=Processor(),\n",
    "                                          #executor=processor.iterative_executor,\n",
    "                                            executor=processor.futures_executor,\n",
    "                                          executor_args={\n",
    "                                              'skipbadfiles':False,\n",
    "                                              'schema': JMENanoAODSchema, #NanoAODSchema, #BaseSchema\n",
    "                                              'workers': 2},\n",
    "                                          chunksize=Chunk[0])#, maxchunks=Chunk[1])\n",
    "\n",
    "elapsed = time.time() - tstart\n",
    "outputs_unweighted[name] = output\n",
    "print(output)\n",
    "#util.save(output, 'CoffeaJERCOutputs_binned_DY_WithoutDZCut.coffea')\n",
    "#util.save(output, 'CoffeaJERCOutputs_binned_DY_DZCut.coffea')\n",
    "util.save(output, 'CoffeaJERCOutputs_binned_something.coffea')\n",
    "\n",
    "\n",
    "outputs_unweighted[name] = output\n",
    "print(name + ' unweighted output loaded')\n",
    "elapsed = time.time() - tstart"
   ]
  },
  {
   "cell_type": "code",
   "execution_count": null,
   "metadata": {},
   "outputs": [],
   "source": [
    "\n"
   ]
  },
  {
   "cell_type": "markdown",
   "metadata": {},
   "source": [
    "### Load coffea output file"
   ]
  },
  {
   "cell_type": "code",
   "execution_count": null,
   "metadata": {},
   "outputs": [],
   "source": [
    "#output = util.load('CoffeaJERCOutputs_binned_DY_WithoutDZCut.coffea')\n",
    "#output = util.load('CoffeaJERCOutputs_binned_DY_DZCut.coffea')\n",
    "output = util.load('CoffeaJERCOutputs_binned_something.coffea')\n",
    "print(output)\n",
    "print ([a for a in output])"
   ]
  },
  {
   "cell_type": "code",
   "execution_count": null,
   "metadata": {},
   "outputs": [],
   "source": [
    "# define gaussian function\n",
    "def gauss(x, *p):\n",
    "    A, mu, sigma = p\n",
    "    return A*np.exp(-(x-mu)**2/(2.*sigma**2))"
   ]
  },
  {
   "cell_type": "code",
   "execution_count": null,
   "metadata": {},
   "outputs": [],
   "source": [
    "ptbins = [1, 2, 3, 4, 5, 6, 7, 8, 9, 10, 11, 12, 13, 14, 15, 17, 20, 23, 27, 30, 35, 40, 45, 57, 72, 90, 120, \n",
    "        150, 200, 300, 400, 550, 750, 1000, 1500, 2000, 2500, 3000, 3500, 4000, 4500, 5000, 10000 ]\n",
    "\n",
    "\n",
    "\n"
   ]
  },
  {
   "cell_type": "code",
   "execution_count": null,
   "metadata": {},
   "outputs": [],
   "source": [
    "etabins =   [-4.889,  -4.716,  -4.538,  -4.363,  -4.191,  -4.013,  -3.839,  -3.664,  -3.489,\n",
    "           -3.314,  -3.139,  -2.964,  -2.853,  -2.65,  -2.5,  -2.322,  -2.172,  -2.043,  -1.93,  -1.83,\n",
    "           -1.74,  -1.653,  -1.566,  -1.479,  -1.392,  -1.305,  -1.218,  -1.131,  -1.044,  -0.957,  -0.879,\n",
    "           -0.783,  -0.696,  -0.609,  -0.522,  -0.435,  -0.348,  -0.261,  -0.174,  -0.087,  0,  0.087,  0.174,\n",
    "           0.261,  0.348,  0.435,  0.522,  0.609,  0.696,  0.783,  0.879,  0.957,  1.044,  1.131,  1.218,\n",
    "           1.305,  1.392,  1.479,  1.566,  1.653,  1.74,  1.83,  1.93,  2.043,  2.172,  2.322,  2.5,  2.65,\n",
    "           2.853,  2.964,  3.139,  3.314,  3.489,  3.664,  3.839,  4.013,  4.191,  4.363,  4.538,  4.716,\n",
    "           4.889, ]#5.191 ]"
   ]
  },
  {
   "cell_type": "code",
   "execution_count": null,
   "metadata": {},
   "outputs": [],
   "source": [
    "jetpt_length = len(output['jetpt'].axis('pt')[1:-1])\n",
    "jeteta_length = len(output['jeteta'].axis('jeteta')[1:-1])\n",
    "jeteta_length = len(etabins)\n",
    "\n",
    "mean = np.zeros((jetpt_length, jeteta_length))\n",
    "median = np.zeros((jetpt_length, jeteta_length))\n",
    "width = np.zeros((jetpt_length, jeteta_length))\n",
    "idx = []"
   ]
  },
  {
   "cell_type": "code",
   "execution_count": null,
   "metadata": {},
   "outputs": [],
   "source": []
  },
  {
   "cell_type": "code",
   "execution_count": null,
   "metadata": {},
   "outputs": [],
   "source": [
    "print(ptbins)\n",
    "print(len(ptbins))\n",
    "bins = [10,15,20,30]\n",
    "#my_slices = tuple(slice(x) for x in bins)\n",
    "print(ptbins[10:20])"
   ]
  },
  {
   "cell_type": "code",
   "execution_count": null,
   "metadata": {},
   "outputs": [],
   "source": [
    "import coffea, uproot3, numpy\n",
    "import mplhep\n",
    "plt.style.use(mplhep.style.ROOT)\n",
    "def createEfficiencyHistos(denominatorname,numeratorhistonames):\n",
    "    for k in range(len(etabins)-1):\n",
    "        etaBin = hist.Interval(etabins[k], etabins[k+1])                                                                                                                                                                                                     \n",
    "        eta_string = 'eta_{:0>6.3f}_to_{:0>6.3f}'.format(etaBin.lo,etaBin.hi)\n",
    "        eta_string = eta_string.replace('.','_')\n",
    "        dhisto = output[denominatorname].integrate('jeteta', etaBin).integrate('dataset')\n",
    "        print(dhisto)\n",
    "        nhistos = [output[nname].integrate('jeteta', etaBin).integrate('dataset') for nname in numeratorhistonames]\n",
    "        \n",
    "        #ax = hist.plot1d(dhisto)\n",
    "        #ax2 = ax.twinx()\n",
    "        color = 'navajowhite'\n",
    "        ax = hist.plot1d(dhisto, fill_opts={'color':color})\n",
    "        ax.set_ylabel('Total counts', color=color)  # we already handled the x-label with ax1\n",
    "        #ax2.plot(t, data2, color=color)\n",
    "        ax.set_xlim(10,120)\n",
    "        ax.tick_params(axis='y', labelcolor=color)\n",
    "        ax2 = ax.twinx()\n",
    "        for idx,nhist in enumerate(nhistos):\n",
    "            print(\"adding\",numeratorhistonames[idx])\n",
    "            hist.plotratio(num=nhist,denom=dhisto, ax =ax2, clear=False,\n",
    "                                #error_opts={'color': 'k', 'marker': '.'},\n",
    "                                error_opts={'marker': '.'},\n",
    "#                                unc='clopper-pearson',label=numeratorhistonames[idx])\n",
    "                                unc='num',label=numeratorhistonames[idx])\n",
    "#                            unc='poisson-ratio',label=numeratorhistonames[0])\n",
    "#        hist.plotratio(num=nhistos[1],denom=dhisto, ax =ax2, clear=False,\n",
    "#                            error_opts={'marker': '.'},\n",
    "#                            unc='num',label=numeratorhistonames[1])\n",
    "#                            unc='poisson-ratio',label=numeratorhistonames[1])\n",
    "        ax2.set_title(\"ratiovs_{}_{}\".format(denominatorname,eta_string))\n",
    "        ax2.set_ylabel('Efficiency')\n",
    "        ax2.set_ylim(0,1.1) \n",
    "        leg = ax2.legend()\n",
    "\n",
    "        plt.show()\n",
    "\n",
    "        plt.savefig(\"plots/ratiovs_{}_for_{}_{}.pdf\".format(denominatorname,\"_\".join(numeratorhistonames),eta_string))\n",
    "        plt.savefig(\"plots/ratiovs_{}_for_{}_{}.png\".format(denominatorname,\"_\".join(numeratorhistonames),eta_string))\n",
    "createEfficiencyHistos('GenJetCounts', ['GenJetCountsMatchedCHS','GenJetCountsMatchedPUPPI'])\n",
    "createEfficiencyHistos('GenJetCounts', ['GenJetCountsWithDZCut'])#,'GenJetCountsMatchedCHS'])\n"
   ]
  },
  {
   "cell_type": "code",
   "execution_count": null,
   "metadata": {},
   "outputs": [],
   "source": [
    "import coffea, uproot3, numpy\n",
    "def dumpHistos(histoname):\n",
    "    xvals = output[histoname].axis('ptresponse' if 'ptresponse' in histoname else 'pt').centers()\n",
    "    fout = uproot3.create(\"plots/{}_export.root\".format(histoname))\n",
    "\n",
    "    f_xvals = np.linspace(0,5,5001)\n",
    "    j = 0\n",
    "    fewptbins = [10,15,20,30,32]\n",
    "    for i in range(len(ptbins)-1):\n",
    "    #for i in fewptbins:\n",
    "\n",
    "        ptBin = hist.Interval(ptbins[i], ptbins[i+1])\n",
    "        print('pt bin '+str(ptBin))\n",
    "\n",
    "        if not 'inf' in str(ptBin):\n",
    "            #pt_string = '_pT'+str(int(ptBin.lo))+'to'+str(int(ptBin.hi))                                                                                                                                                                                                     \n",
    "            pt_string = '_pT_{:0>6}_to_{:0>6}'.format(int(ptBin.lo),int(ptBin.hi))\n",
    "        else:\n",
    "            pt_string = '_pT'+str(ptBin.lo) + 'to' + str(ptBin.hi)\n",
    "            pt_string = pt_string.replace('.0','').replace('-infto','0to')\n",
    "\n",
    "        for k in range(len(etabins)-1):\n",
    "\n",
    "            etaBin = hist.Interval(etabins[k], etabins[k+1])\n",
    "            #eta_string = '_eta'+str(etaBin.lo)+'to'+str(etaBin.hi)                                                                                                                                                                                                           \n",
    "            eta_string = '_eta_{:0>6.3f}_to_{:0>6.3f}'.format(etaBin.lo,etaBin.hi)\n",
    "            eta_string = eta_string.replace('.','_')\n",
    "\n",
    "\n",
    "\n",
    "            histo = output[histoname].integrate('jeteta', etaBin).integrate('pt', ptBin) if 'ptresponse' in histoname else output[histoname].integrate('jeteta', etaBin) \n",
    "            if i==0 or histoname!=\"GenJetCounts\": fout[\"{}_{}_{}\".format(histoname,pt_string if 'ptresponse' in histoname else \"\",eta_string)] = coffea.hist.export1d(histo.integrate('dataset'))\n",
    "            histvals = np.repeat(histo.axis('ptresponse' if 'ptresponse' in histoname else 'pt').centers(), np.array(histo.values()[('QCD',)],dtype='int'))\n",
    "\n",
    "            yvals = histo.values()[('QCD',)]\n",
    "\n",
    "\n",
    "\n",
    "            try:\n",
    "                p, arr = curve_fit(gauss, xvals, yvals, p0=[10,1,1])\n",
    "            except:\n",
    "                continue\n",
    "\n",
    "\n",
    "            fgaus = gauss(f_xvals, *p)\n",
    "\n",
    "    #         median[i,k] = f_xvals[fgaus == np.max(fgaus)]                                                                                                                                                                                                                   \n",
    "            median[i,k] = np.median(histvals)\n",
    "            mean[i,k] = p[1]\n",
    "            width[i,k] = p[2]\n",
    "            idx.append(i)\n",
    "\n",
    "            if(etabins[k]==2.853 or etabins[k]==0.0):\n",
    "                h = np.max(histo.values()[('QCD',)])\n",
    "                ax = hist.plot1d(histo, overlay='dataset')\n",
    "                ax.set_title(\"{}_{}_{}\".format(histoname,pt_string,eta_string))\n",
    "     #         plt.plot(f_xvals, fgaus)                                                                                                                                                                                                                                       \n",
    "                plt.text(4,0.75*h,'Mean {0:0.2f}'.format(p[1]))\n",
    "                plt.text(4,0.7*h,'Median {0:0.2f}'.format(np.median(histvals)))\n",
    "                plt.text(4,0.65*h,'Width {0:0.2f}'.format(p[2]))\n",
    "                #plt.text(4,0.65*h,'Width {0:0.2f}'.format(p[2]))\n",
    "\n",
    "                plt.xscale(\"linear\") if 'ptresponse' in histoname else plt.xscale(\"log\")\n",
    "                plt.savefig(\"plots/{}_{}_{}.pdf\".format(histoname,pt_string,eta_string))\n",
    "                plt.savefig(\"plots/{}_{}_{}.png\".format(histoname,pt_string,eta_string))\n",
    "                plt.show()\n",
    "    fout.close()\n"
   ]
  },
  {
   "cell_type": "code",
   "execution_count": null,
   "metadata": {},
   "outputs": [],
   "source": [
    "histos= ['GenJetCountsWithDZCut','GenJetCountsMatchedPUPPI','GenJetCountsMatchedCHS','GenJetCounts','ptresponse', 'corrected_ptresponse', 'CHSptresponse', 'CHScorrected_ptresponse', 'CHSPUPPIptresponse', 'CHSPUPPIcorrected_ptresponse']\n",
    "#histos= ['ptresponse', 'corrected_ptresponse', 'CHSptresponse', 'CHScorrected_ptresponse', 'CHSPUPPIptresponse', 'CHSPUPPIcorrected_ptresponse']\n",
    "for histo in histos:\n",
    "    dumpHistos(histo)\n"
   ]
  },
  {
   "cell_type": "markdown",
   "metadata": {},
   "source": [
    "# Main part done here\n",
    "Keep later parts (from original JERCCoffea code) for reference. Might be useful for later data/MC double-ratios"
   ]
  },
  {
   "cell_type": "code",
   "execution_count": null,
   "metadata": {},
   "outputs": [],
   "source": [
    "histo = output['ptresponse'].integrate('jeteta', hist.Interval(-0.5, 0)).integrate('pt', hist.Interval(180, 200))\n",
    "\n",
    "histo.values()"
   ]
  },
  {
   "cell_type": "code",
   "execution_count": null,
   "metadata": {},
   "outputs": [],
   "source": [
    "        h = np.max(histo.values()[('QCD',)])\n",
    "        ax = hist.plot1d(histo, overlay='dataset')\n",
    "#         plt.plot(f_xvals, fgaus)\n",
    "        plt.savefig('ptResponse'+pt_string+eta_string+'.png')\n",
    "        plt.text(4,0.75*h,'Mean {0:0.2f}'.format(p[1]))\n",
    "        plt.text(4,0.7*h,'Median {0:0.2f}'.format(np.median(histvals)))\n",
    "        plt.text(4,0.65*h,'Width {0:0.2f}'.format(p[2]))\n",
    "\n",
    "        plt.show()"
   ]
  },
  {
   "cell_type": "code",
   "execution_count": null,
   "metadata": {},
   "outputs": [],
   "source": [
    "14000/h"
   ]
  },
  {
   "cell_type": "code",
   "execution_count": null,
   "metadata": {},
   "outputs": [],
   "source": [
    "np.max(histo.values()[('QCD',)])"
   ]
  },
  {
   "cell_type": "code",
   "execution_count": null,
   "metadata": {},
   "outputs": [],
   "source": [
    "arr = np.repeat(histo.axis('ptresponse').centers(), np.array(histo.values()[('QCD',)],dtype='int'))"
   ]
  },
  {
   "cell_type": "code",
   "execution_count": null,
   "metadata": {},
   "outputs": [],
   "source": [
    "np.array(histo.values()[('QCD',)],dtype='int')"
   ]
  },
  {
   "cell_type": "code",
   "execution_count": null,
   "metadata": {},
   "outputs": [],
   "source": [
    "data = {str(ptBin):mean[i] for i, ptBin in enumerate(output['jetpt'].axis('pt')[1:-1])}\n",
    "# data = {str(ptBin):mean[i] for i, ptBin in enumerate(ptbins)}\n",
    "\n",
    "data['etaBins'] = [str(etaBin) for etaBin in output['jeteta'].axis('jeteta')[1:-1]]\n",
    "# data['etaBins'] = [str(etaBin) for etaBin in etabins]\n",
    "\n",
    "df = pd.DataFrame(data=data)\n",
    "df = df.set_index('etaBins')\n",
    "df.to_csv('EtaBinsvsPtBinsMean.csv')"
   ]
  },
  {
   "cell_type": "code",
   "execution_count": null,
   "metadata": {},
   "outputs": [],
   "source": [
    "data_width = {str(ptBin):width[i] for i, ptBin in enumerate(output['jetpt'].axis('pt')[1:-1])}\n",
    "# data_width = {str(ptBin):width[i] for i, ptBin in enumerate(ptbins)}\n",
    "\n",
    "data_width['etaBins'] = [str(etaBin) for etaBin in output['jeteta'].axis('jeteta')[1:-1]]\n",
    "# data_width['etaBins'] = [str(etaBin) for etaBin in etabins]\n",
    "\n",
    "df_width = pd.DataFrame(data=data_width)\n",
    "df_width = df_width.set_index('etaBins')\n",
    "df_width.to_csv('EtaBinsvsPtBinsWidth.csv')"
   ]
  },
  {
   "cell_type": "code",
   "execution_count": null,
   "metadata": {},
   "outputs": [],
   "source": [
    "data_median = {str(ptBin):median[i] for i, ptBin in enumerate(output['jetpt'].axis('pt')[1:-1])}\n",
    "# data_median = {str(ptBin):median[i] for i, ptBin in enumerate(ptbins)}\n",
    "\n",
    "data_median['etaBins'] = [str(etaBin) for etaBin in output['jeteta'].axis('jeteta')[1:-1]]\n",
    "# data_median['etaBins'] = [str(etaBin) for etaBin in etabins]\n",
    "\n",
    "df_median = pd.DataFrame(data=data_median)\n",
    "df_median = df_median.set_index('etaBins')\n",
    "df_median.to_csv('EtaBinsvsPtBinsMedian.csv')"
   ]
  },
  {
   "cell_type": "code",
   "execution_count": null,
   "metadata": {
    "scrolled": true
   },
   "outputs": [],
   "source": [
    "with pd.option_context('display.max_rows', None, 'display.max_columns', None):  # more options can be specified also\n",
    "    print(df)"
   ]
  },
  {
   "cell_type": "code",
   "execution_count": null,
   "metadata": {},
   "outputs": [],
   "source": [
    "df"
   ]
  },
  {
   "cell_type": "code",
   "execution_count": null,
   "metadata": {},
   "outputs": [],
   "source": [
    "# df[pt bin][eta bin]\n",
    "\n",
    "ptBin = '300'\n",
    "etaBin = '0.783'\n",
    "\n",
    "print('mean   =', np.round(df[ptBin][etaBin],3))\n",
    "print('median =', np.round(df_median[ptBin][etaBin],3))\n",
    "print('width  =', np.round(df_width[ptBin][etaBin],3))"
   ]
  },
  {
   "cell_type": "code",
   "execution_count": null,
   "metadata": {},
   "outputs": [],
   "source": [
    "# df[pt bin][eta bin]\n",
    "\n",
    "ptBin = '300'\n",
    "etaBin = '0.783'\n",
    "\n",
    "print('mean   =', df[ptBin][etaBin])\n",
    "print('median =', df_median[ptBin][etaBin])\n",
    "print('width  =', df_width[ptBin][etaBin])"
   ]
  },
  {
   "cell_type": "markdown",
   "metadata": {},
   "source": [
    "### Read csv\n",
    "\n",
    "\n",
    " \n",
    "\n",
    "format for example $ 20 \\text{ GeV} < p_T < 25 \\text{ GeV} $ and $ 3.5 < \\eta < 4.0 $\n",
    "\n",
    "\n",
    "```\n",
    "df = pd.read_csv('EtaBinsvsPtBinsMean.csv).set_index('etaBins')\n",
    "ptBin='[20, 25)'\n",
    "etaBin='[3.5, 4)'\n",
    "mean = df[ptBin][etaBin]\n",
    "```\n",
    "\n",
    "\n"
   ]
  },
  {
   "cell_type": "code",
   "execution_count": null,
   "metadata": {},
   "outputs": [],
   "source": [
    "df_csv = pd.read_csv('EtaBinsvsPtBinsMean.csv').set_index('etaBins')"
   ]
  },
  {
   "cell_type": "code",
   "execution_count": null,
   "metadata": {},
   "outputs": [],
   "source": [
    "df_csv"
   ]
  },
  {
   "cell_type": "code",
   "execution_count": null,
   "metadata": {},
   "outputs": [],
   "source": [
    "df_median"
   ]
  },
  {
   "cell_type": "code",
   "execution_count": null,
   "metadata": {},
   "outputs": [],
   "source": [
    "eff = np.random.rand(10,10)\n",
    "ptbins = np.random.randint(9, size=10)\n",
    "etabins = np.random.randint(9, size=10)"
   ]
  },
  {
   "cell_type": "code",
   "execution_count": null,
   "metadata": {},
   "outputs": [],
   "source": []
  },
  {
   "cell_type": "code",
   "execution_count": null,
   "metadata": {},
   "outputs": [],
   "source": []
  }
 ],
 "metadata": {
  "kernelspec": {
   "display_name": "Python 3",
   "language": "python",
   "name": "python3"
  },
  "language_info": {
   "codemirror_mode": {
    "name": "ipython",
    "version": 3
   },
   "file_extension": ".py",
   "mimetype": "text/x-python",
   "name": "python",
   "nbconvert_exporter": "python",
   "pygments_lexer": "ipython3",
   "version": "3.9.12"
  }
 },
 "nbformat": 4,
 "nbformat_minor": 2
}
