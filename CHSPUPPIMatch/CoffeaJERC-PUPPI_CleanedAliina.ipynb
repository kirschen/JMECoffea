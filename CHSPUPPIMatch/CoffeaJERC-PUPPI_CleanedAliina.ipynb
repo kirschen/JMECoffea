{
 "cells": [
  {
   "cell_type": "markdown",
   "metadata": {},
   "source": [
    "Jet matching notebook for JMENANO. Plotting distributions from MC using processor"
   ]
  },
  {
   "cell_type": "code",
   "execution_count": null,
   "metadata": {},
   "outputs": [],
   "source": [
    "import bokeh\n",
    "import time\n",
    "import copy\n",
    "import scipy.stats as ss\n",
    "from scipy.optimize import curve_fit\n",
    "from coffea import hist, processor, nanoevents, util\n",
    "from coffea.nanoevents.methods import candidate\n",
    "from coffea.nanoevents import NanoAODSchema, BaseSchema\n",
    "\n",
    "import awkward as ak\n",
    "import numpy as np\n",
    "import glob as glob\n",
    "import itertools\n",
    "import pandas as pd\n",
    "from numpy.random import RandomState\n",
    "\n",
    "#from dask.distributed import Client\n",
    "import inspect\n",
    "import matplotlib.pyplot as plt\n",
    "\n",
    "#from lpcjobqueue import LPCCondorCluster"
   ]
  },
  {
   "cell_type": "code",
   "execution_count": null,
   "metadata": {},
   "outputs": [],
   "source": [
    "class JMENanoAODSchema(NanoAODSchema):\n",
    "    \"\"\"JMENano schema builder\n",
    "\n",
    "    JMENano is an extended NanoAOD format that includes various jet collections down to low pt for JME studies\n",
    "    More info at https://twiki.cern.ch/twiki/bin/viewauth/CMS/JMECustomNanoAOD\n",
    "    Customization at https://github.com/nurfikri89/cmssw/blob/master/PhysicsTools/NanoAOD/python/custom_jme_cff.py\n",
    "    \"\"\"\n",
    "\n",
    "    mixins = {\n",
    "        **NanoAODSchema.mixins,\n",
    "        \"JetCalo\": \"Jet\",\n",
    "        \"JetPuppi\": \"Jet\",\n",
    "        \"FatJetForJEC\": \"Jet\",\n",
    "        \"FatJetCHS\": \"Jet\",\n",
    "    }\n",
    "    all_cross_references = {\n",
    "        **NanoAODSchema.all_cross_references,\n",
    "        \"FatJetForJEC_genJetIdx\": \"GenJetAK8ForJEC\",\n",
    "        \"FatJetCHS_genJetIdx\": \"GenJetAK8ForJEC\",\n",
    "        \"JetCalo_genJetIdx\": \"GenJet\",\n",
    "        \"JetPuppi_genJetIdx\": \"GenJet\",\n",
    "    }\n"
   ]
  },
  {
   "cell_type": "markdown",
   "metadata": {},
   "source": [
    "### Import processor"
   ]
  },
  {
   "cell_type": "code",
   "execution_count": null,
   "metadata": {},
   "outputs": [],
   "source": [
    "from CoffeaJERCProcessor_PUPPICHS_cleaned import Processor"
   ]
  },
  {
   "cell_type": "code",
   "execution_count": null,
   "metadata": {},
   "outputs": [],
   "source": []
  },
  {
   "cell_type": "code",
   "execution_count": null,
   "metadata": {},
   "outputs": [],
   "source": []
  },
  {
   "cell_type": "code",
   "execution_count": null,
   "metadata": {},
   "outputs": [],
   "source": []
  },
  {
   "cell_type": "code",
   "execution_count": null,
   "metadata": {},
   "outputs": [],
   "source": [
    "xrootdstr = 'root://cmsxrootd.fnal.gov/'\n",
    "xrootdstr = '/scratch/singularity_scratch_coffea/JMENANO_LOCAL/'\n",
    "#adapt this to eos...phys_jetmet\n",
    "\n",
    "#rootfiles = open('dataset_local.txt').read().split()\n",
    "#rootfiles = open('dataset_local_Epsilon.txt').read().split()\n",
    "#rootfiles = open('dataset_local_Premix.txt').read().split()\n",
    "rootfiles = open('dataset_local_DY.txt').read().split()\n",
    "\n",
    "fileslist = [xrootdstr + file for file in rootfiles]\n",
    "\n"
   ]
  },
  {
   "cell_type": "code",
   "execution_count": null,
   "metadata": {},
   "outputs": [],
   "source": [
    "fileslist"
   ]
  },
  {
   "cell_type": "code",
   "execution_count": null,
   "metadata": {},
   "outputs": [],
   "source": []
  },
  {
   "cell_type": "code",
   "execution_count": null,
   "metadata": {},
   "outputs": [],
   "source": [
    "#fileslist = fileslist[:10]\n",
    "#fileslist"
   ]
  },
  {
   "cell_type": "code",
   "execution_count": null,
   "metadata": {
    "scrolled": false
   },
   "outputs": [],
   "source": [
    "tstart = time.time()\n",
    "\n",
    "outputs_unweighted = {}\n",
    "\n",
    "seed = 1234577890\n",
    "prng = RandomState(seed)\n",
    "Chunk = [10000, 10] # [chunksize, maxchunks]\n",
    "\n",
    "filesets = {'QCD': fileslist}\n",
    "\n",
    "for name,files in filesets.items(): \n",
    "    chosen_exec = 'futures'\n",
    "    output = processor.run_uproot_job({name:files},\n",
    "                                          treename='Events',\n",
    "                                          processor_instance=Processor(),\n",
    "                                          #executor=processor.iterative_executor,\n",
    "                                            executor=processor.futures_executor,\n",
    "                                          executor_args={\n",
    "                                              'skipbadfiles':False,\n",
    "                                              'schema': JMENanoAODSchema, #NanoAODSchema, #BaseSchema\n",
    "                                              'workers': 48},\n",
    "                                          chunksize=Chunk[0])#, maxchunks=Chunk[1])\n",
    "\n",
    "elapsed = time.time() - tstart\n",
    "outputs_unweighted[name] = output\n",
    "print(output)\n",
    "#util.save(output, 'CoffeaJERCOutputs_binned_DY_WithoutDZCut.coffea')\n",
    "#util.save(output, 'CoffeaJERCOutputs_binned_DY_DZCut.coffea')\n",
    "util.save(output, 'CoffeaJERCOutputs_binned_something.coffea')\n",
    "\n",
    "\n",
    "outputs_unweighted[name] = output\n",
    "print(name + ' unweighted output loaded')\n",
    "elapsed = time.time() - tstart"
   ]
  },
  {
   "cell_type": "code",
   "execution_count": null,
   "metadata": {},
   "outputs": [],
   "source": [
    "\n"
   ]
  },
  {
   "cell_type": "markdown",
   "metadata": {},
   "source": [
    "### Load coffea output file"
   ]
  },
  {
   "cell_type": "code",
   "execution_count": null,
   "metadata": {},
   "outputs": [],
   "source": [
    "#output = util.load('CoffeaJERCOutputs_binned_DY_WithoutDZCut.coffea')\n",
    "#output = util.load('CoffeaJERCOutputs_binned_DY_DZCut.coffea')\n",
    "output = util.load('CoffeaJERCOutputs_binned_something.coffea')\n",
    "print(output)\n",
    "print ([a for a in output])"
   ]
  },
  {
   "cell_type": "code",
   "execution_count": null,
   "metadata": {},
   "outputs": [],
   "source": [
    "# define gaussian function\n",
    "def gauss(x, *p):\n",
    "    A, mu, sigma = p\n",
    "    return A*np.exp(-(x-mu)**2/(2.*sigma**2))"
   ]
  },
  {
   "cell_type": "code",
   "execution_count": null,
   "metadata": {},
   "outputs": [],
   "source": [
    "ptbins = [1, 2, 3, 4, 5, 6, 7, 8, 9, 10, 11, 12, 13, 14, 15, 17, 20, 23, 27, 30, 35, 40, 45, 57, 72, 90, 120, \n",
    "        150, 200, 300, 400, 550, 750, 1000, 1500, 2000, 2500, 3000, 3500, 4000, 4500, 5000, 10000 ]\n",
    "\n",
    "\n",
    "\n"
   ]
  },
  {
   "cell_type": "code",
   "execution_count": null,
   "metadata": {},
   "outputs": [],
   "source": [
    "etabins =   [-4.889,  -4.716,  -4.538,  -4.363,  -4.191,  -4.013,  -3.839,  -3.664,  -3.489,\n",
    "           -3.314,  -3.139,  -2.964,  -2.853,  -2.65,  -2.5,  -2.322,  -2.172,  -2.043,  -1.93,  -1.83,\n",
    "           -1.74,  -1.653,  -1.566,  -1.479,  -1.392,  -1.305,  -1.218,  -1.131,  -1.044,  -0.957,  -0.879,\n",
    "           -0.783,  -0.696,  -0.609,  -0.522,  -0.435,  -0.348,  -0.261,  -0.174,  -0.087,  0,  0.087,  0.174,\n",
    "           0.261,  0.348,  0.435,  0.522,  0.609,  0.696,  0.783,  0.879,  0.957,  1.044,  1.131,  1.218,\n",
    "           1.305,  1.392,  1.479,  1.566,  1.653,  1.74,  1.83,  1.93,  2.043,  2.172,  2.322,  2.5,  2.65,\n",
    "           2.853,  2.964,  3.139,  3.314,  3.489,  3.664,  3.839,  4.013,  4.191,  4.363,  4.538,  4.716,\n",
    "           4.889, ]#5.191 ]"
   ]
  },
  {
   "cell_type": "code",
   "execution_count": null,
   "metadata": {},
   "outputs": [],
   "source": [
    "jetpt_length = len(output['jetpt'].axis('pt')[1:-1])\n",
    "jeteta_length = len(output['jeteta'].axis('jeteta')[1:-1])\n",
    "jeteta_length = len(etabins)\n",
    "\n",
    "mean = np.zeros((jetpt_length, jeteta_length))\n",
    "median = np.zeros((jetpt_length, jeteta_length))\n",
    "width = np.zeros((jetpt_length, jeteta_length))\n",
    "idx = []"
   ]
  },
  {
   "cell_type": "code",
   "execution_count": null,
   "metadata": {},
   "outputs": [],
   "source": []
  },
  {
   "cell_type": "code",
   "execution_count": null,
   "metadata": {},
   "outputs": [],
   "source": [
    "print(ptbins)\n",
    "print(len(ptbins))\n",
    "bins = [10,15,20,30]\n",
    "#my_slices = tuple(slice(x) for x in bins)\n",
    "print(ptbins[10:20])"
   ]
  },
  {
   "cell_type": "code",
   "execution_count": null,
   "metadata": {},
   "outputs": [],
   "source": [
    "import coffea, uproot3, numpy\n",
    "import mplhep\n",
    "plt.style.use(mplhep.style.ROOT)\n",
    "def createEfficiencyHistos(denominatorname,numeratorhistonames):\n",
    "    for k in range(len(etabins)-1):\n",
    "        etaBin = hist.Interval(etabins[k], etabins[k+1])                                                                                                                                                                                                     \n",
    "        eta_string = 'eta_{:0>6.3f}_to_{:0>6.3f}'.format(etaBin.lo,etaBin.hi)\n",
    "        eta_string = eta_string.replace('.','_')\n",
    "        dhisto = output[denominatorname].integrate('jeteta', etaBin).integrate('dataset')\n",
    "        print(dhisto)\n",
    "        nhistos = [output[nname].integrate('jeteta', etaBin).integrate('dataset') for nname in numeratorhistonames]\n",
    "        \n",
    "        #ax = hist.plot1d(dhisto)\n",
    "        #ax2 = ax.twinx()\n",
    "        color = 'navajowhite'\n",
    "        ax = hist.plot1d(dhisto, fill_opts={'color':color})\n",
    "        ax.set_ylabel('Total counts', color=color)  # we already handled the x-label with ax1\n",
    "        #ax2.plot(t, data2, color=color)\n",
    "        ax.set_xlim(10,120)\n",
    "        ax.tick_params(axis='y', labelcolor=color)\n",
    "        ax2 = ax.twinx()\n",
    "        for idx,nhist in enumerate(nhistos):\n",
    "            print(\"adding\",numeratorhistonames[idx])\n",
    "            hist.plotratio(num=nhist,denom=dhisto, ax =ax2, clear=False,\n",
    "                                #error_opts={'color': 'k', 'marker': '.'},\n",
    "                                error_opts={'marker': '.'},\n",
    "#                                unc='clopper-pearson',label=numeratorhistonames[idx])\n",
    "                                unc='num',label=numeratorhistonames[idx])\n",
    "#                            unc='poisson-ratio',label=numeratorhistonames[0])\n",
    "#        hist.plotratio(num=nhistos[1],denom=dhisto, ax =ax2, clear=False,\n",
    "#                            error_opts={'marker': '.'},\n",
    "#                            unc='num',label=numeratorhistonames[1])\n",
    "#                            unc='poisson-ratio',label=numeratorhistonames[1])\n",
    "        ax2.set_title(\"ratiovs_{}_{}\".format(denominatorname,eta_string))\n",
    "        ax2.set_ylabel('Efficiency')\n",
    "        ax2.set_ylim(0,1.1) \n",
    "        leg = ax2.legend()\n",
    "\n",
    "        plt.show()\n",
    "\n",
    "        plt.savefig(\"plots/ratiovs_{}_for_{}_{}.pdf\".format(denominatorname,\"_\".join(numeratorhistonames),eta_string))\n",
    "        plt.savefig(\"plots/ratiovs_{}_for_{}_{}.png\".format(denominatorname,\"_\".join(numeratorhistonames),eta_string))\n",
    "createEfficiencyHistos('GenJetCounts', ['GenJetCountsMatchedCHS','GenJetCountsMatchedPUPPI'])\n",
    "createEfficiencyHistos('GenJetCounts', ['GenJetCountsWithDZCut'])#,'GenJetCountsMatchedCHS'])\n"
   ]
  },
  {
   "cell_type": "code",
   "execution_count": null,
   "metadata": {},
   "outputs": [],
   "source": [
    "import coffea, uproot3, numpy\n",
    "def dumpHistos(histoname):\n",
    "    xvals = output[histoname].axis('ptresponse' if 'ptresponse' in histoname else 'pt').centers()\n",
    "    fout = uproot3.create(\"plots/{}_export.root\".format(histoname))\n",
    "\n",
    "    f_xvals = np.linspace(0,5,5001)\n",
    "    j = 0\n",
    "    fewptbins = [10,15,20,30,32]\n",
    "    for i in range(len(ptbins)-1):\n",
    "    #for i in fewptbins:\n",
    "\n",
    "        ptBin = hist.Interval(ptbins[i], ptbins[i+1])\n",
    "        print('pt bin '+str(ptBin))\n",
    "\n",
    "        if not 'inf' in str(ptBin):\n",
    "            #pt_string = '_pT'+str(int(ptBin.lo))+'to'+str(int(ptBin.hi))                                                                                                                                                                                                     \n",
    "            pt_string = '_pT_{:0>6}_to_{:0>6}'.format(int(ptBin.lo),int(ptBin.hi))\n",
    "        else:\n",
    "            pt_string = '_pT'+str(ptBin.lo) + 'to' + str(ptBin.hi)\n",
    "            pt_string = pt_string.replace('.0','').replace('-infto','0to')\n",
    "\n",
    "        for k in range(len(etabins)-1):\n",
    "\n",
    "            etaBin = hist.Interval(etabins[k], etabins[k+1])\n",
    "            #eta_string = '_eta'+str(etaBin.lo)+'to'+str(etaBin.hi)                                                                                                                                                                                                           \n",
    "            eta_string = '_eta_{:0>6.3f}_to_{:0>6.3f}'.format(etaBin.lo,etaBin.hi)\n",
    "            eta_string = eta_string.replace('.','_')\n",
    "\n",
    "\n",
    "\n",
    "            histo = output[histoname].integrate('jeteta', etaBin).integrate('pt', ptBin) if 'ptresponse' in histoname else output[histoname].integrate('jeteta', etaBin) \n",
    "            if i==0 or histoname!=\"GenJetCounts\": fout[\"{}_{}_{}\".format(histoname,pt_string if 'ptresponse' in histoname else \"\",eta_string)] = coffea.hist.export1d(histo.integrate('dataset'))\n",
    "            histvals = np.repeat(histo.axis('ptresponse' if 'ptresponse' in histoname else 'pt').centers(), np.array(histo.values()[('QCD',)],dtype='int'))\n",
    "\n",
    "            yvals = histo.values()[('QCD',)]\n",
    "\n",
    "\n",
    "\n",
    "            try:\n",
    "                p, arr = curve_fit(gauss, xvals, yvals, p0=[10,1,1])\n",
    "            except:\n",
    "                continue\n",
    "\n",
    "\n",
    "            fgaus = gauss(f_xvals, *p)\n",
    "\n",
    "    #         median[i,k] = f_xvals[fgaus == np.max(fgaus)]                                                                                                                                                                                                                   \n",
    "            median[i,k] = np.median(histvals)\n",
    "            mean[i,k] = p[1]\n",
    "            width[i,k] = p[2]\n",
    "            idx.append(i)\n",
    "\n",
    "            if(etabins[k]==2.853 or etabins[k]==0.0):\n",
    "                h = np.max(histo.values()[('QCD',)])\n",
    "                ax = hist.plot1d(histo, overlay='dataset')\n",
    "                ax.set_title(\"{}_{}_{}\".format(histoname,pt_string,eta_string))\n",
    "     #         plt.plot(f_xvals, fgaus)                                                                                                                                                                                                                                       \n",
    "                plt.text(4,0.75*h,'Mean {0:0.2f}'.format(p[1]))\n",
    "                plt.text(4,0.7*h,'Median {0:0.2f}'.format(np.median(histvals)))\n",
    "                plt.text(4,0.65*h,'Width {0:0.2f}'.format(p[2]))\n",
    "                #plt.text(4,0.65*h,'Width {0:0.2f}'.format(p[2]))\n",
    "\n",
    "                plt.xscale(\"linear\") if 'ptresponse' in histoname else plt.xscale(\"log\")\n",
    "                plt.savefig(\"plots/{}_{}_{}.pdf\".format(histoname,pt_string,eta_string))\n",
    "                plt.savefig(\"plots/{}_{}_{}.png\".format(histoname,pt_string,eta_string))\n",
    "                plt.show()\n",
    "    fout.close()\n"
   ]
  },
  {
   "cell_type": "code",
   "execution_count": null,
   "metadata": {},
   "outputs": [],
   "source": [
    "histos= ['GenJetCountsWithDZCut','GenJetCountsMatchedPUPPI','GenJetCountsMatchedCHS','GenJetCounts','ptresponse', 'corrected_ptresponse', 'CHSptresponse', 'CHScorrected_ptresponse', 'CHSPUPPIptresponse', 'CHSPUPPIcorrected_ptresponse']\n",
    "#histos= ['ptresponse', 'corrected_ptresponse', 'CHSptresponse', 'CHScorrected_ptresponse', 'CHSPUPPIptresponse', 'CHSPUPPIcorrected_ptresponse']\n",
    "for histo in histos:\n",
    "    dumpHistos(histo)\n"
   ]
  },
  {
   "cell_type": "markdown",
   "metadata": {},
   "source": [
    "# Main part done here\n",
    "Keep later parts (from original JERCCoffea code) for reference. Might be useful for later data/MC double-ratios"
   ]
  },
  {
   "cell_type": "code",
   "execution_count": null,
   "metadata": {},
   "outputs": [],
   "source": [
    "histo = output['ptresponse'].integrate('jeteta', hist.Interval(-0.5, 0)).integrate('pt', hist.Interval(180, 200))\n",
    "\n",
    "histo.values()"
   ]
  },
  {
   "cell_type": "code",
   "execution_count": null,
   "metadata": {},
   "outputs": [],
   "source": [
    "        h = np.max(histo.values()[('QCD',)])\n",
    "        ax = hist.plot1d(histo, overlay='dataset')\n",
    "#         plt.plot(f_xvals, fgaus)\n",
    "        plt.savefig('ptResponse'+pt_string+eta_string+'.png')\n",
    "        plt.text(4,0.75*h,'Mean {0:0.2f}'.format(p[1]))\n",
    "        plt.text(4,0.7*h,'Median {0:0.2f}'.format(np.median(histvals)))\n",
    "        plt.text(4,0.65*h,'Width {0:0.2f}'.format(p[2]))\n",
    "\n",
    "        plt.show()"
   ]
  },
  {
   "cell_type": "code",
   "execution_count": null,
   "metadata": {},
   "outputs": [],
   "source": [
    "14000/h"
   ]
  },
  {
   "cell_type": "code",
   "execution_count": null,
   "metadata": {},
   "outputs": [],
   "source": [
    "np.max(histo.values()[('QCD',)])"
   ]
  },
  {
   "cell_type": "code",
   "execution_count": null,
   "metadata": {},
   "outputs": [],
   "source": [
    "arr = np.repeat(histo.axis('ptresponse').centers(), np.array(histo.values()[('QCD',)],dtype='int'))"
   ]
  },
  {
   "cell_type": "code",
   "execution_count": null,
   "metadata": {},
   "outputs": [],
   "source": [
    "np.array(histo.values()[('QCD',)],dtype='int')"
   ]
  },
  {
   "cell_type": "code",
   "execution_count": null,
   "metadata": {},
   "outputs": [],
   "source": [
    "data = {str(ptBin):mean[i] for i, ptBin in enumerate(output['jetpt'].axis('pt')[1:-1])}\n",
    "# data = {str(ptBin):mean[i] for i, ptBin in enumerate(ptbins)}\n",
    "\n",
    "data['etaBins'] = [str(etaBin) for etaBin in output['jeteta'].axis('jeteta')[1:-1]]\n",
    "# data['etaBins'] = [str(etaBin) for etaBin in etabins]\n",
    "\n",
    "df = pd.DataFrame(data=data)\n",
    "df = df.set_index('etaBins')\n",
    "df.to_csv('EtaBinsvsPtBinsMean.csv')"
   ]
  },
  {
   "cell_type": "code",
   "execution_count": null,
   "metadata": {},
   "outputs": [],
   "source": [
    "data_width = {str(ptBin):width[i] for i, ptBin in enumerate(output['jetpt'].axis('pt')[1:-1])}\n",
    "# data_width = {str(ptBin):width[i] for i, ptBin in enumerate(ptbins)}\n",
    "\n",
    "data_width['etaBins'] = [str(etaBin) for etaBin in output['jeteta'].axis('jeteta')[1:-1]]\n",
    "# data_width['etaBins'] = [str(etaBin) for etaBin in etabins]\n",
    "\n",
    "df_width = pd.DataFrame(data=data_width)\n",
    "df_width = df_width.set_index('etaBins')\n",
    "df_width.to_csv('EtaBinsvsPtBinsWidth.csv')"
   ]
  },
  {
   "cell_type": "code",
   "execution_count": null,
   "metadata": {},
   "outputs": [],
   "source": [
    "data_median = {str(ptBin):median[i] for i, ptBin in enumerate(output['jetpt'].axis('pt')[1:-1])}\n",
    "# data_median = {str(ptBin):median[i] for i, ptBin in enumerate(ptbins)}\n",
    "\n",
    "data_median['etaBins'] = [str(etaBin) for etaBin in output['jeteta'].axis('jeteta')[1:-1]]\n",
    "# data_median['etaBins'] = [str(etaBin) for etaBin in etabins]\n",
    "\n",
    "df_median = pd.DataFrame(data=data_median)\n",
    "df_median = df_median.set_index('etaBins')\n",
    "df_median.to_csv('EtaBinsvsPtBinsMedian.csv')"
   ]
  },
  {
   "cell_type": "code",
   "execution_count": null,
   "metadata": {
    "scrolled": true
   },
   "outputs": [],
   "source": [
    "with pd.option_context('display.max_rows', None, 'display.max_columns', None):  # more options can be specified also\n",
    "    print(df)"
   ]
  },
  {
   "cell_type": "code",
   "execution_count": null,
   "metadata": {},
   "outputs": [],
   "source": [
    "df"
   ]
  },
  {
   "cell_type": "code",
   "execution_count": null,
   "metadata": {},
   "outputs": [],
   "source": [
    "# df[pt bin][eta bin]\n",
    "\n",
    "ptBin = '300'\n",
    "etaBin = '0.783'\n",
    "\n",
    "print('mean   =', np.round(df[ptBin][etaBin],3))\n",
    "print('median =', np.round(df_median[ptBin][etaBin],3))\n",
    "print('width  =', np.round(df_width[ptBin][etaBin],3))"
   ]
  },
  {
   "cell_type": "code",
   "execution_count": null,
   "metadata": {},
   "outputs": [],
   "source": [
    "# df[pt bin][eta bin]\n",
    "\n",
    "ptBin = '300'\n",
    "etaBin = '0.783'\n",
    "\n",
    "print('mean   =', df[ptBin][etaBin])\n",
    "print('median =', df_median[ptBin][etaBin])\n",
    "print('width  =', df_width[ptBin][etaBin])"
   ]
  },
  {
   "cell_type": "markdown",
   "metadata": {},
   "source": [
    "### Read csv\n",
    "\n",
    "\n",
    " \n",
    "\n",
    "format for example $ 20 \\text{ GeV} < p_T < 25 \\text{ GeV} $ and $ 3.5 < \\eta < 4.0 $\n",
    "\n",
    "\n",
    "```\n",
    "df = pd.read_csv('EtaBinsvsPtBinsMean.csv).set_index('etaBins')\n",
    "ptBin='[20, 25)'\n",
    "etaBin='[3.5, 4)'\n",
    "mean = df[ptBin][etaBin]\n",
    "```\n",
    "\n",
    "\n"
   ]
  },
  {
   "cell_type": "code",
   "execution_count": null,
   "metadata": {},
   "outputs": [],
   "source": [
    "df_csv = pd.read_csv('EtaBinsvsPtBinsMean.csv').set_index('etaBins')"
   ]
  },
  {
   "cell_type": "code",
   "execution_count": null,
   "metadata": {},
   "outputs": [],
   "source": [
    "df_csv"
   ]
  },
  {
   "cell_type": "code",
   "execution_count": null,
   "metadata": {},
   "outputs": [],
   "source": [
    "df_median"
   ]
  },
  {
   "cell_type": "code",
   "execution_count": null,
   "metadata": {},
   "outputs": [],
   "source": [
    "eff = np.random.rand(10,10)\n",
    "ptbins = np.random.randint(9, size=10)\n",
    "etabins = np.random.randint(9, size=10)"
   ]
  },
  {
   "cell_type": "code",
   "execution_count": null,
   "metadata": {},
   "outputs": [],
   "source": []
  },
  {
   "cell_type": "code",
   "execution_count": null,
   "metadata": {},
   "outputs": [],
   "source": []
  }
 ],
 "metadata": {
  "kernelspec": {
   "display_name": "Python 3 (ipykernel)",
   "language": "python",
   "name": "python3"
  },
  "language_info": {
   "codemirror_mode": {
    "name": "ipython",
    "version": 3
   },
   "file_extension": ".py",
   "mimetype": "text/x-python",
   "name": "python",
   "nbconvert_exporter": "python",
   "pygments_lexer": "ipython3",
   "version": "3.8.13"
  }
 },
 "nbformat": 4,
 "nbformat_minor": 2
}
